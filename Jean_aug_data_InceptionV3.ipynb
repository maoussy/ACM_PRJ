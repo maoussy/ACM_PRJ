{
 "cells": [
  {
   "cell_type": "code",
   "execution_count": 1,
   "id": "ae5db051",
   "metadata": {},
   "outputs": [],
   "source": [
    "import torch\n",
    "import torch.nn as nn\n",
    "import torch.nn.functional as F\n",
    "import torch.optim as optim\n",
    "import torchvision\n",
    "import torchvision.transforms as transforms\n",
    "import torchvision.datasets as datasets"
   ]
  },
  {
   "cell_type": "code",
   "execution_count": 2,
   "id": "b52a9161",
   "metadata": {},
   "outputs": [],
   "source": [
    "import os\n",
    "import random\n",
    "import numpy as np\n",
    "import time\n",
    "from PIL import ImageFile, Image\n",
    "ImageFile.LOAD_TRUNCATED_IMAGES = True"
   ]
  },
  {
   "cell_type": "code",
   "execution_count": 4,
   "id": "edadbb73",
   "metadata": {},
   "outputs": [],
   "source": [
    "from PIL import Image\n",
    "import os\n",
    "\n",
    "directory = 'C:\\\\Users\\\\Jean-Michel\\\\Downloads\\\\my_data_aug\\\\my_data_aug'\n",
    "\n",
    "for filename in os.listdir(directory):\n",
    "    filepath = os.path.join(directory, filename)\n",
    "    \n",
    "    # Only process files (not directories)\n",
    "    if os.path.isfile(filepath):\n",
    "        try:\n",
    "            with open(filepath, 'rb') as f:\n",
    "                Image.open(f)\n",
    "        except:\n",
    "            os.remove(filepath)\n",
    "            print('Removed:', filepath)\n"
   ]
  },
  {
   "cell_type": "code",
   "execution_count": 5,
   "id": "42965474",
   "metadata": {},
   "outputs": [],
   "source": [
    "SEED = 1234\n",
    "random.seed(SEED)\n",
    "np.random.seed(SEED)\n",
    "torch.manual_seed(SEED)\n",
    "torch.cuda.manual_seed(SEED)\n",
    "torch.backends.cudnn.deterministic = True"
   ]
  },
  {
   "cell_type": "code",
   "execution_count": 6,
   "id": "4419cd92",
   "metadata": {},
   "outputs": [],
   "source": [
    "train_transforms = transforms.Compose([transforms.RandomResizedCrop(size=324, scale=(0.8, 1.0)),\n",
    "                                      transforms.RandomRotation(degrees=5),\n",
    "                                      transforms.ColorJitter(),\n",
    "                                      #transforms.RandomHorizontalFlip(),\n",
    "                                      transforms.CenterCrop(size=299),  # Image net standards\n",
    "                                      transforms.ToTensor(),\n",
    "                                      transforms.Normalize([0.5, 0.5, 0.5],\n",
    "                                                           [0.5, 0.5, 0.5])\n",
    "                                      ])\n",
    "\n",
    "test_transforms = transforms.Compose([\n",
    "                           #transforms.CenterCrop((224, 224)),\n",
    "                            transforms.Resize((299,299)),\n",
    "                            transforms.ToTensor(),\n",
    "                            transforms.Normalize((0.5, 0.5, 0.5),(0.5, 0.5, 0.5))\n",
    "                       ])"
   ]
  },
  {
   "cell_type": "code",
   "execution_count": 7,
   "id": "53469b90",
   "metadata": {},
   "outputs": [],
   "source": [
    "train_data = datasets.ImageFolder(r\"C:\\Users\\Jean-Michel\\Downloads\\my_data_aug\\my_data_aug\\train\", train_transforms)\n",
    "test_data = datasets.ImageFolder(r\"C:\\Users\\Jean-Michel\\Downloads\\my_data_aug\\my_data_aug\\test\", test_transforms)\n",
    "#test_data = datasets.ImageFolder('data/dogs-vs-cats/test', test_transforms)\n",
    "\n",
    "import os\n",
    "\n",
    "#print(len(os.listdir('my_data/train')))\n",
    "\n",
    "n_train_examples = int(len(train_data)*0.8)\n",
    "n_valid_examples = n_test_examples = len(train_data) - n_train_examples\n",
    "\n",
    "train_data, valid_data = torch.utils.data.random_split(train_data, [n_train_examples, n_valid_examples])\n",
    "#train_data, test_data = torch.utils.data.random_split(train_data, [n_train_examples-n_valid_examples, n_test_examples])\n"
   ]
  },
  {
   "cell_type": "code",
   "execution_count": 8,
   "id": "efa5e1ea",
   "metadata": {},
   "outputs": [
    {
     "name": "stdout",
     "output_type": "stream",
     "text": [
      "Number of training examples: 4844\n",
      "Number of validation examples: 1212\n",
      "Number of testing examples: 1457\n"
     ]
    }
   ],
   "source": [
    "print(f'Number of training examples: {len(train_data)}')\n",
    "print(f'Number of validation examples: {len(valid_data)}')\n",
    "print(f'Number of testing examples: {len(test_data)}')"
   ]
  },
  {
   "cell_type": "code",
   "execution_count": 9,
   "id": "6bf30796",
   "metadata": {},
   "outputs": [],
   "source": [
    "BATCH_SIZE = 32\n",
    "train_iterator = torch.utils.data.DataLoader(train_data, shuffle=True, batch_size=BATCH_SIZE)\n",
    "valid_iterator = torch.utils.data.DataLoader(valid_data, batch_size=BATCH_SIZE)\n",
    "test_iterator = torch.utils.data.DataLoader(test_data, batch_size=BATCH_SIZE)"
   ]
  },
  {
   "cell_type": "code",
   "execution_count": 11,
   "id": "7cc9ba08",
   "metadata": {},
   "outputs": [
    {
     "data": {
      "text/plain": [
       "device(type='cuda')"
      ]
     },
     "execution_count": 11,
     "metadata": {},
     "output_type": "execute_result"
    }
   ],
   "source": [
    "device = torch.device('cuda')\n",
    "device"
   ]
  },
  {
   "cell_type": "code",
   "execution_count": 13,
   "id": "ded037a2",
   "metadata": {},
   "outputs": [
    {
     "name": "stderr",
     "output_type": "stream",
     "text": [
      "Downloading: \"https://download.pytorch.org/models/inception_v3_google-0cc3c7bd.pth\" to C:\\Users\\Jean-Michel/.cache\\torch\\hub\\checkpoints\\inception_v3_google-0cc3c7bd.pth\n"
     ]
    },
    {
     "data": {
      "application/vnd.jupyter.widget-view+json": {
       "model_id": "85b7294a864f46fd8ce2ac8b5e370498",
       "version_major": 2,
       "version_minor": 0
      },
      "text/plain": [
       "  0%|          | 0.00/104M [00:00<?, ?B/s]"
      ]
     },
     "metadata": {},
     "output_type": "display_data"
    }
   ],
   "source": [
    "import torchvision.models as models\n",
    "\n",
    "model = models.inception_v3(pretrained=True)\n",
    "model.aux_logits = False\n",
    "model = model.to(device)\n"
   ]
  },
  {
   "cell_type": "code",
   "execution_count": 14,
   "id": "17a1e7f0",
   "metadata": {},
   "outputs": [],
   "source": [
    "for param in model.parameters():\n",
    "    param.requires_grad = True"
   ]
  },
  {
   "cell_type": "code",
   "execution_count": 15,
   "id": "35b6a37e",
   "metadata": {},
   "outputs": [
    {
     "name": "stdout",
     "output_type": "stream",
     "text": [
      "Linear(in_features=2048, out_features=1000, bias=True)\n"
     ]
    }
   ],
   "source": [
    "print(model.fc)"
   ]
  },
  {
   "cell_type": "code",
   "execution_count": 16,
   "id": "662aec3e",
   "metadata": {},
   "outputs": [],
   "source": [
    "model.fc = nn.Linear(in_features=2048, out_features=18, bias=True).to(device)"
   ]
  },
  {
   "cell_type": "code",
   "execution_count": 17,
   "id": "1a435555",
   "metadata": {},
   "outputs": [],
   "source": [
    "optimizer = optim.Adam(model.parameters())"
   ]
  },
  {
   "cell_type": "code",
   "execution_count": 18,
   "id": "35a8caee",
   "metadata": {},
   "outputs": [],
   "source": [
    "criterion = nn.CrossEntropyLoss()"
   ]
  },
  {
   "cell_type": "code",
   "execution_count": 19,
   "id": "daad0a62",
   "metadata": {},
   "outputs": [],
   "source": [
    "def calculate_accuracy(fx, y):\n",
    "    preds = fx.max(1, keepdim=True)[1]\n",
    "    correct = preds.eq(y.view_as(preds)).sum()\n",
    "    acc = correct.float()/preds.shape[0]\n",
    "    return acc"
   ]
  },
  {
   "cell_type": "code",
   "execution_count": 37,
   "id": "1e0f0ff8",
   "metadata": {},
   "outputs": [],
   "source": [
    "def train(model, device, iterator, optimizer, criterion):  \n",
    "    epoch_loss = 0\n",
    "    epoch_acc = 0\n",
    "    \n",
    "    model.train()\n",
    "    \n",
    "    for (x, y) in iterator:\n",
    "        x = x.to(device)\n",
    "        y = y.to(device)\n",
    "        \n",
    "        optimizer.zero_grad()\n",
    "              \n",
    "        fx = model(x)\n",
    "\n",
    "        loss = criterion(fx, y)\n",
    "        \n",
    "        acc = calculate_accuracy(fx, y)\n",
    "        \n",
    "        loss.backward()\n",
    "        \n",
    "        optimizer.step()\n",
    "        \n",
    "        epoch_loss += loss.item()\n",
    "        epoch_acc += acc.item()\n",
    "        \n",
    "    return epoch_loss / len(iterator), epoch_acc / len(iterator)\n"
   ]
  },
  {
   "cell_type": "code",
   "execution_count": 38,
   "id": "5298011c",
   "metadata": {},
   "outputs": [],
   "source": [
    "def evaluate(model, device, iterator, criterion):\n",
    "    \n",
    "    epoch_loss = 0\n",
    "    epoch_acc = 0\n",
    "    \n",
    "    model.eval()\n",
    "    \n",
    "    with torch.no_grad():\n",
    "        for (x, y) in iterator:\n",
    "\n",
    "            x = x.to(device)\n",
    "            y = y.to(device)\n",
    "\n",
    "            fx = model(x)\n",
    "\n",
    "            loss = criterion(fx, y)\n",
    "\n",
    "            acc = calculate_accuracy(fx, y)\n",
    "\n",
    "            epoch_loss += loss.item()\n",
    "            epoch_acc += acc.item()\n",
    "        \n",
    "    return epoch_loss / len(iterator), epoch_acc / len(iterator)\n",
    "\n"
   ]
  },
  {
   "cell_type": "code",
   "execution_count": 39,
   "id": "8b1fab81",
   "metadata": {},
   "outputs": [],
   "source": [
    "t_train_acc = []\n",
    "t_val_acc = []\n",
    "t_train_loss = []\n",
    "t_val_loss = []"
   ]
  },
  {
   "cell_type": "code",
   "execution_count": 40,
   "id": "298f436f",
   "metadata": {},
   "outputs": [
    {
     "name": "stdout",
     "output_type": "stream",
     "text": [
      "| Epoch: 01 | Train Loss: 0.047 | Train Acc: 98.64% | Val. Loss: 0.071 | Val. Acc: 97.52% | T: 88.52s|\n",
      "| Epoch: 02 | Train Loss: 0.075 | Train Acc: 98.14% | Val. Loss: 0.534 | Val. Acc: 91.64% | T: 83.62s|\n",
      "| Epoch: 03 | Train Loss: 0.130 | Train Acc: 96.22% | Val. Loss: 0.081 | Val. Acc: 97.84% | T: 82.72s|\n",
      "| Epoch: 04 | Train Loss: 0.044 | Train Acc: 98.73% | Val. Loss: 0.024 | Val. Acc: 99.42% | T: 83.52s|\n",
      "| Epoch: 05 | Train Loss: 0.032 | Train Acc: 98.93% | Val. Loss: 0.024 | Val. Acc: 99.26% | T: 84.08s|\n",
      "| Epoch: 06 | Train Loss: 0.026 | Train Acc: 99.12% | Val. Loss: 0.003 | Val. Acc: 100.00% | T: 84.89s|\n",
      "| Epoch: 07 | Train Loss: 0.028 | Train Acc: 99.35% | Val. Loss: 0.009 | Val. Acc: 99.84% | T: 84.68s|\n",
      "| Epoch: 08 | Train Loss: 0.044 | Train Acc: 98.77% | Val. Loss: 0.045 | Val. Acc: 98.75% | T: 84.86s|\n",
      "| Epoch: 09 | Train Loss: 0.053 | Train Acc: 98.77% | Val. Loss: 0.067 | Val. Acc: 97.85% | T: 85.08s|\n",
      "| Epoch: 10 | Train Loss: 0.034 | Train Acc: 99.07% | Val. Loss: 0.009 | Val. Acc: 99.67% | T: 85.54s|\n",
      "| Epoch: 11 | Train Loss: 0.021 | Train Acc: 99.36% | Val. Loss: 0.007 | Val. Acc: 99.84% | T: 85.13s|\n",
      "| Epoch: 12 | Train Loss: 0.020 | Train Acc: 99.42% | Val. Loss: 0.030 | Val. Acc: 99.59% | T: 85.45s|\n",
      "| Epoch: 13 | Train Loss: 0.018 | Train Acc: 99.53% | Val. Loss: 0.006 | Val. Acc: 99.84% | T: 85.78s|\n",
      "| Epoch: 14 | Train Loss: 0.019 | Train Acc: 99.47% | Val. Loss: 0.049 | Val. Acc: 98.93% | T: 85.76s|\n",
      "| Epoch: 15 | Train Loss: 0.055 | Train Acc: 98.62% | Val. Loss: 0.010 | Val. Acc: 99.67% | T: 85.43s|\n",
      "| Epoch: 16 | Train Loss: 0.010 | Train Acc: 99.65% | Val. Loss: 0.018 | Val. Acc: 99.25% | T: 85.84s|\n",
      "| Epoch: 17 | Train Loss: 0.061 | Train Acc: 98.36% | Val. Loss: 0.031 | Val. Acc: 98.68% | T: 86.35s|\n",
      "| Epoch: 18 | Train Loss: 0.030 | Train Acc: 99.18% | Val. Loss: 0.051 | Val. Acc: 98.77% | T: 85.53s|\n",
      "| Epoch: 19 | Train Loss: 0.032 | Train Acc: 99.12% | Val. Loss: 0.015 | Val. Acc: 99.51% | T: 85.69s|\n",
      "| Epoch: 20 | Train Loss: 0.006 | Train Acc: 99.77% | Val. Loss: 0.005 | Val. Acc: 99.84% | T: 85.66s|\n",
      "| Epoch: 21 | Train Loss: 0.027 | Train Acc: 99.18% | Val. Loss: 0.024 | Val. Acc: 99.51% | T: 85.81s|\n",
      "| Epoch: 22 | Train Loss: 0.007 | Train Acc: 99.92% | Val. Loss: 0.001 | Val. Acc: 99.92% | T: 85.89s|\n",
      "| Epoch: 23 | Train Loss: 0.001 | Train Acc: 100.00% | Val. Loss: 0.000 | Val. Acc: 100.00% | T: 86.17s|\n",
      "| Epoch: 24 | Train Loss: 0.009 | Train Acc: 99.79% | Val. Loss: 0.013 | Val. Acc: 99.33% | T: 86.15s|\n",
      "| Epoch: 25 | Train Loss: 0.051 | Train Acc: 98.83% | Val. Loss: 0.373 | Val. Acc: 92.06% | T: 86.01s|\n",
      "| Epoch: 26 | Train Loss: 0.050 | Train Acc: 98.51% | Val. Loss: 0.049 | Val. Acc: 98.85% | T: 85.62s|\n",
      "| Epoch: 27 | Train Loss: 0.028 | Train Acc: 99.10% | Val. Loss: 0.030 | Val. Acc: 99.26% | T: 85.75s|\n",
      "| Epoch: 28 | Train Loss: 0.030 | Train Acc: 99.21% | Val. Loss: 0.008 | Val. Acc: 99.59% | T: 85.87s|\n",
      "| Epoch: 29 | Train Loss: 0.018 | Train Acc: 99.53% | Val. Loss: 0.011 | Val. Acc: 99.51% | T: 85.93s|\n",
      "| Epoch: 30 | Train Loss: 0.007 | Train Acc: 99.81% | Val. Loss: 0.005 | Val. Acc: 99.75% | T: 86.07s|\n",
      "| Epoch: 31 | Train Loss: 0.020 | Train Acc: 99.40% | Val. Loss: 0.030 | Val. Acc: 99.34% | T: 86.02s|\n",
      "| Epoch: 32 | Train Loss: 0.021 | Train Acc: 99.24% | Val. Loss: 0.020 | Val. Acc: 99.34% | T: 86.00s|\n",
      "| Epoch: 33 | Train Loss: 0.017 | Train Acc: 99.47% | Val. Loss: 0.006 | Val. Acc: 99.84% | T: 86.70s|\n",
      "| Epoch: 34 | Train Loss: 0.009 | Train Acc: 99.69% | Val. Loss: 0.000 | Val. Acc: 100.00% | T: 87.47s|\n",
      "| Epoch: 35 | Train Loss: 0.038 | Train Acc: 98.91% | Val. Loss: 0.007 | Val. Acc: 99.84% | T: 87.70s|\n",
      "| Epoch: 36 | Train Loss: 0.002 | Train Acc: 99.96% | Val. Loss: 0.006 | Val. Acc: 99.67% | T: 87.96s|\n",
      "| Epoch: 37 | Train Loss: 0.005 | Train Acc: 99.84% | Val. Loss: 0.017 | Val. Acc: 99.59% | T: 87.24s|\n",
      "| Epoch: 38 | Train Loss: 0.004 | Train Acc: 99.86% | Val. Loss: 0.001 | Val. Acc: 100.00% | T: 86.53s|\n",
      "| Epoch: 39 | Train Loss: 0.002 | Train Acc: 99.94% | Val. Loss: 0.000 | Val. Acc: 100.00% | T: 87.07s|\n",
      "| Epoch: 40 | Train Loss: 0.001 | Train Acc: 99.92% | Val. Loss: 0.000 | Val. Acc: 100.00% | T: 87.03s|\n"
     ]
    }
   ],
   "source": [
    "EPOCHS = 40\n",
    "\n",
    "SAVE_DIR = 'models'\n",
    "MODEL_SAVE_PATH = os.path.join(SAVE_DIR, 'jean_inception_v3.pt')\n",
    "\n",
    "best_valid_loss = float('inf')\n",
    "\n",
    "if not os.path.isdir(f'{SAVE_DIR}'):\n",
    "    os.makedirs(f'{SAVE_DIR}')\n",
    "\n",
    "for epoch in range(EPOCHS):\n",
    "    \n",
    "    start = time.time()\n",
    "    \n",
    "    train_loss, train_acc = train(model, device, train_iterator, optimizer, criterion)\n",
    "    valid_loss, valid_acc = evaluate(model, device, valid_iterator, criterion)\n",
    "    \n",
    "    \n",
    "    t_train_loss.append(train_loss)\n",
    "    t_train_acc.append(train_acc)\n",
    "    \n",
    "    t_val_acc.append(valid_acc)\n",
    "    t_val_loss.append(valid_loss)\n",
    "   \n",
    "    \n",
    "    if valid_loss < best_valid_loss:\n",
    "        best_valid_loss = valid_loss\n",
    "        torch.save(model.state_dict(), MODEL_SAVE_PATH)\n",
    "    \n",
    "    T = time.time() - start\n",
    "    \n",
    "    print(f'| Epoch: {epoch+1:02} | Train Loss: {train_loss:.3f} | Train Acc: {train_acc*100:05.2f}% | Val. Loss: {valid_loss:.3f} | Val. Acc: {valid_acc*100:05.2f}% | T: {T:0.2f}s|')\n"
   ]
  },
  {
   "cell_type": "code",
   "execution_count": 55,
   "id": "74a1470f",
   "metadata": {},
   "outputs": [
    {
     "name": "stdout",
     "output_type": "stream",
     "text": [
      "| Test Loss: 17.747 | Test Acc: 31.39% |\n"
     ]
    }
   ],
   "source": [
    "model.load_state_dict(torch.load(MODEL_SAVE_PATH))\n",
    "test_loss, test_acc = evaluate(model, device, test_iterator, criterion)\n",
    "print(f'| Test Loss: {test_loss:.3f} | Test Acc: {test_acc*100:05.2f}% |')\n"
   ]
  },
  {
   "cell_type": "code",
   "execution_count": 45,
   "id": "338b2900",
   "metadata": {},
   "outputs": [],
   "source": [
    "import matplotlib.pyplot as plt\n",
    "acc = t_train_acc\n",
    "val_acc = t_val_acc\n",
    "loss = t_train_loss\n",
    "val_loss = t_val_loss\n",
    " \n",
    "epochs = range(len(acc))"
   ]
  },
  {
   "cell_type": "code",
   "execution_count": 46,
   "id": "f9167864",
   "metadata": {},
   "outputs": [
    {
     "data": {
      "image/png": "[encoded data removed]",
      "text/plain": [
       "<Figure size 640x480 with 1 Axes>"
      ]
     },
     "metadata": {},
     "output_type": "display_data"
    }
   ],
   "source": [
    "plt.plot(epochs, acc, 'b', label='Training acc',marker = \"*\")\n",
    "plt.plot(epochs, val_acc, 'r', label='Validation acc',marker = \"+\")\n",
    "#plt.title('Training and validation accuracy')\n",
    "plt.legend()\n",
    "plt.xlabel('Number of epochs')\n",
    "plt.ylabel('Accuracy')\n",
    "plt.savefig('trainning_resnet152_acc.png', dpi=300)\n",
    "plt.show()"
   ]
  },
  {
   "cell_type": "code",
   "execution_count": 48,
   "id": "a3b55637",
   "metadata": {},
   "outputs": [
    {
     "data": {
      "image/png": "[encoded data removed]",
      "text/plain": [
       "<Figure size 640x480 with 1 Axes>"
      ]
     },
     "metadata": {},
     "output_type": "display_data"
    }
   ],
   "source": [
    "plt.figure()\n",
    "plt.plot(epochs, loss, 'b', label='Training loss',marker = \"*\")\n",
    "plt.plot(epochs, val_loss, 'r', label='Validation loss',marker = \"+\")\n",
    "#plt.title('Training and validation loss')\n",
    "plt.legend()\n",
    "plt.xlabel('Number of epochs')\n",
    "plt.ylabel('Loss')\n",
    "plt.savefig('trainning_resnet152_loss.png', dpi=300)\n",
    "plt.show()"
   ]
  }
 ],
 "metadata": {
  "kernelspec": {
   "display_name": "Python 3 (ipykernel)",
   "language": "python",
   "name": "python3"
  },
  "language_info": {
   "codemirror_mode": {
    "name": "ipython",
    "version": 3
   },
   "file_extension": ".py",
   "mimetype": "text/x-python",
   "name": "python",
   "nbconvert_exporter": "python",
   "pygments_lexer": "ipython3",
   "version": "3.10.9"
  }
 },
 "nbformat": 4,
 "nbformat_minor": 5
}
